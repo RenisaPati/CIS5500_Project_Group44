{
  "cells": [
    {
      "cell_type": "markdown",
      "metadata": {
        "id": "bfqtfriGkx3M"
      },
      "source": [
        "# Introduction, imports, and function defs"
      ]
    },
    {
      "cell_type": "markdown",
      "metadata": {
        "id": "QH_eTZUxg292"
      },
      "source": [
        "Preprocessing steps needed for Goodreads books and authors datasets. Data retrieved from: https://sites.google.com/eng.ucsd.edu/ucsdbookgraph/home?authuser=0. Specifically, in this notebook for the sake of exploration, I will be cleaning the genre dataset."
      ]
    },
    {
      "cell_type": "code",
      "execution_count": 31,
      "metadata": {
        "id": "UOIvpuFFgWdh"
      },
      "outputs": [],
      "source": [
        "import numpy as np\n",
        "import pandas as pd\n",
        "import matplotlib.pyplot as plt\n",
        "import gdown\n",
        "import seaborn as sns\n",
        "from google.colab import drive\n",
        "import json\n",
        "from os.path import join\n",
        "import re\n",
        "# !apt install unzip\n",
        "import csv"
      ]
    },
    {
      "cell_type": "code",
      "execution_count": 3,
      "metadata": {
        "colab": {
          "base_uri": "https://localhost:8080/"
        },
        "id": "X483zDgugaPb",
        "outputId": "231caf8c-8955-4db9-c705-60f7254885eb"
      },
      "outputs": [
        {
          "output_type": "stream",
          "name": "stdout",
          "text": [
            "Mounted at /content/drive\n"
          ]
        }
      ],
      "source": [
        "# Mount drive\n",
        "drive.mount('/content/drive') "
      ]
    },
    {
      "cell_type": "code",
      "execution_count": 4,
      "metadata": {
        "id": "Y0NLj9Y2gcpO"
      },
      "outputs": [],
      "source": [
        "dir = '/content/drive/Shareddrives/CIS5500-BookReviews/RawFiles/'\n",
        "# authors_path = 'goodreads_book_authors.json'\n",
        "genres_path = 'goodreads_book_genres.json'\n",
        "\n",
        "\n",
        "# !unzip \"/content/drive/Shareddrives/CIS5500-BookReviews/RawFiles/goodreads_book_genres.json.gz\" -d \"/content/drive/Shareddrives/CIS5500-BookReviews/RawFiles/\""
      ]
    },
    {
      "cell_type": "code",
      "execution_count": 5,
      "metadata": {
        "id": "u4z9ZMKqhlLq"
      },
      "outputs": [],
      "source": [
        "# Function to load the data from the unzipped json files:\n",
        "def load_json(file_name, head = 500):\n",
        "  ''' file_name: path to the json file to be loaded\n",
        "      head: the number of elements to load\n",
        "  '''\n",
        "  count = 0\n",
        "  data = []\n",
        "  with open(file_name) as fn:\n",
        "      for l in fn:\n",
        "          d = json.loads(l)\n",
        "          count += 1\n",
        "          data.append(d)\n",
        "          \n",
        "          # break if reaches the 100th line\n",
        "          if (head is not None) and (count > head):\n",
        "              break\n",
        "  return data"
      ]
    },
    {
      "cell_type": "markdown",
      "metadata": {
        "id": "_w5Hf0F2knf4"
      },
      "source": [
        "# Authors data loading and cleaning"
      ]
    },
    {
      "cell_type": "code",
      "execution_count": 6,
      "metadata": {
        "id": "Ta7jgULYh0V8"
      },
      "outputs": [],
      "source": [
        "genres_data = load_json(join(dir, genres_path), head=None)"
      ]
    },
    {
      "cell_type": "code",
      "execution_count": 7,
      "metadata": {
        "colab": {
          "base_uri": "https://localhost:8080/",
          "height": 206
        },
        "id": "W0xj_W1qhzhI",
        "outputId": "30f2ec6c-f5ef-4a88-cfb1-e0356850a0dd"
      },
      "outputs": [
        {
          "output_type": "execute_result",
          "data": {
            "text/plain": [
              "   book_id                                             genres\n",
              "0  5333265      {'history, historical fiction, biography': 1}\n",
              "1  1333909  {'fiction': 219, 'history, historical fiction,...\n",
              "2  7327624  {'fantasy, paranormal': 31, 'fiction': 8, 'mys...\n",
              "3  6066819  {'fiction': 555, 'romance': 23, 'mystery, thri...\n",
              "4   287140                                 {'non-fiction': 3}"
            ],
            "text/html": [
              "\n",
              "  <div id=\"df-52ce4dde-2d37-4cfb-9868-c57f72ed4563\">\n",
              "    <div class=\"colab-df-container\">\n",
              "      <div>\n",
              "<style scoped>\n",
              "    .dataframe tbody tr th:only-of-type {\n",
              "        vertical-align: middle;\n",
              "    }\n",
              "\n",
              "    .dataframe tbody tr th {\n",
              "        vertical-align: top;\n",
              "    }\n",
              "\n",
              "    .dataframe thead th {\n",
              "        text-align: right;\n",
              "    }\n",
              "</style>\n",
              "<table border=\"1\" class=\"dataframe\">\n",
              "  <thead>\n",
              "    <tr style=\"text-align: right;\">\n",
              "      <th></th>\n",
              "      <th>book_id</th>\n",
              "      <th>genres</th>\n",
              "    </tr>\n",
              "  </thead>\n",
              "  <tbody>\n",
              "    <tr>\n",
              "      <th>0</th>\n",
              "      <td>5333265</td>\n",
              "      <td>{'history, historical fiction, biography': 1}</td>\n",
              "    </tr>\n",
              "    <tr>\n",
              "      <th>1</th>\n",
              "      <td>1333909</td>\n",
              "      <td>{'fiction': 219, 'history, historical fiction,...</td>\n",
              "    </tr>\n",
              "    <tr>\n",
              "      <th>2</th>\n",
              "      <td>7327624</td>\n",
              "      <td>{'fantasy, paranormal': 31, 'fiction': 8, 'mys...</td>\n",
              "    </tr>\n",
              "    <tr>\n",
              "      <th>3</th>\n",
              "      <td>6066819</td>\n",
              "      <td>{'fiction': 555, 'romance': 23, 'mystery, thri...</td>\n",
              "    </tr>\n",
              "    <tr>\n",
              "      <th>4</th>\n",
              "      <td>287140</td>\n",
              "      <td>{'non-fiction': 3}</td>\n",
              "    </tr>\n",
              "  </tbody>\n",
              "</table>\n",
              "</div>\n",
              "      <button class=\"colab-df-convert\" onclick=\"convertToInteractive('df-52ce4dde-2d37-4cfb-9868-c57f72ed4563')\"\n",
              "              title=\"Convert this dataframe to an interactive table.\"\n",
              "              style=\"display:none;\">\n",
              "        \n",
              "  <svg xmlns=\"http://www.w3.org/2000/svg\" height=\"24px\"viewBox=\"0 0 24 24\"\n",
              "       width=\"24px\">\n",
              "    <path d=\"M0 0h24v24H0V0z\" fill=\"none\"/>\n",
              "    <path d=\"M18.56 5.44l.94 2.06.94-2.06 2.06-.94-2.06-.94-.94-2.06-.94 2.06-2.06.94zm-11 1L8.5 8.5l.94-2.06 2.06-.94-2.06-.94L8.5 2.5l-.94 2.06-2.06.94zm10 10l.94 2.06.94-2.06 2.06-.94-2.06-.94-.94-2.06-.94 2.06-2.06.94z\"/><path d=\"M17.41 7.96l-1.37-1.37c-.4-.4-.92-.59-1.43-.59-.52 0-1.04.2-1.43.59L10.3 9.45l-7.72 7.72c-.78.78-.78 2.05 0 2.83L4 21.41c.39.39.9.59 1.41.59.51 0 1.02-.2 1.41-.59l7.78-7.78 2.81-2.81c.8-.78.8-2.07 0-2.86zM5.41 20L4 18.59l7.72-7.72 1.47 1.35L5.41 20z\"/>\n",
              "  </svg>\n",
              "      </button>\n",
              "      \n",
              "  <style>\n",
              "    .colab-df-container {\n",
              "      display:flex;\n",
              "      flex-wrap:wrap;\n",
              "      gap: 12px;\n",
              "    }\n",
              "\n",
              "    .colab-df-convert {\n",
              "      background-color: #E8F0FE;\n",
              "      border: none;\n",
              "      border-radius: 50%;\n",
              "      cursor: pointer;\n",
              "      display: none;\n",
              "      fill: #1967D2;\n",
              "      height: 32px;\n",
              "      padding: 0 0 0 0;\n",
              "      width: 32px;\n",
              "    }\n",
              "\n",
              "    .colab-df-convert:hover {\n",
              "      background-color: #E2EBFA;\n",
              "      box-shadow: 0px 1px 2px rgba(60, 64, 67, 0.3), 0px 1px 3px 1px rgba(60, 64, 67, 0.15);\n",
              "      fill: #174EA6;\n",
              "    }\n",
              "\n",
              "    [theme=dark] .colab-df-convert {\n",
              "      background-color: #3B4455;\n",
              "      fill: #D2E3FC;\n",
              "    }\n",
              "\n",
              "    [theme=dark] .colab-df-convert:hover {\n",
              "      background-color: #434B5C;\n",
              "      box-shadow: 0px 1px 3px 1px rgba(0, 0, 0, 0.15);\n",
              "      filter: drop-shadow(0px 1px 2px rgba(0, 0, 0, 0.3));\n",
              "      fill: #FFFFFF;\n",
              "    }\n",
              "  </style>\n",
              "\n",
              "      <script>\n",
              "        const buttonEl =\n",
              "          document.querySelector('#df-52ce4dde-2d37-4cfb-9868-c57f72ed4563 button.colab-df-convert');\n",
              "        buttonEl.style.display =\n",
              "          google.colab.kernel.accessAllowed ? 'block' : 'none';\n",
              "\n",
              "        async function convertToInteractive(key) {\n",
              "          const element = document.querySelector('#df-52ce4dde-2d37-4cfb-9868-c57f72ed4563');\n",
              "          const dataTable =\n",
              "            await google.colab.kernel.invokeFunction('convertToInteractive',\n",
              "                                                     [key], {});\n",
              "          if (!dataTable) return;\n",
              "\n",
              "          const docLinkHtml = 'Like what you see? Visit the ' +\n",
              "            '<a target=\"_blank\" href=https://colab.research.google.com/notebooks/data_table.ipynb>data table notebook</a>'\n",
              "            + ' to learn more about interactive tables.';\n",
              "          element.innerHTML = '';\n",
              "          dataTable['output_type'] = 'display_data';\n",
              "          await google.colab.output.renderOutput(dataTable, element);\n",
              "          const docLink = document.createElement('div');\n",
              "          docLink.innerHTML = docLinkHtml;\n",
              "          element.appendChild(docLink);\n",
              "        }\n",
              "      </script>\n",
              "    </div>\n",
              "  </div>\n",
              "  "
            ]
          },
          "metadata": {},
          "execution_count": 7
        }
      ],
      "source": [
        "genres_df = pd.DataFrame(genres_data)\n",
        "genres_df.head()"
      ]
    },
    {
      "cell_type": "code",
      "source": [
        "genres_df.tail()"
      ],
      "metadata": {
        "colab": {
          "base_uri": "https://localhost:8080/",
          "height": 206
        },
        "id": "jOj7RHHnIKee",
        "outputId": "aaf8f21c-29dd-44d6-c3a8-5da9bc1bfe25"
      },
      "execution_count": 8,
      "outputs": [
        {
          "output_type": "execute_result",
          "data": {
            "text/plain": [
              "          book_id                                             genres\n",
              "2360650   3084038  {'non-fiction': 5, 'history, historical fictio...\n",
              "2360651  26168430  {'mystery, thriller, crime': 4, 'children': 1,...\n",
              "2360652   2342551  {'poetry': 14, 'children': 7, 'young-adult': 1...\n",
              "2360653  22017381     {'romance': 13, 'mystery, thriller, crime': 2}\n",
              "2360654  11419866                      {'romance': 19, 'fiction': 4}"
            ],
            "text/html": [
              "\n",
              "  <div id=\"df-8b1b01d1-2e5f-4bc4-a94a-56be94599ae4\">\n",
              "    <div class=\"colab-df-container\">\n",
              "      <div>\n",
              "<style scoped>\n",
              "    .dataframe tbody tr th:only-of-type {\n",
              "        vertical-align: middle;\n",
              "    }\n",
              "\n",
              "    .dataframe tbody tr th {\n",
              "        vertical-align: top;\n",
              "    }\n",
              "\n",
              "    .dataframe thead th {\n",
              "        text-align: right;\n",
              "    }\n",
              "</style>\n",
              "<table border=\"1\" class=\"dataframe\">\n",
              "  <thead>\n",
              "    <tr style=\"text-align: right;\">\n",
              "      <th></th>\n",
              "      <th>book_id</th>\n",
              "      <th>genres</th>\n",
              "    </tr>\n",
              "  </thead>\n",
              "  <tbody>\n",
              "    <tr>\n",
              "      <th>2360650</th>\n",
              "      <td>3084038</td>\n",
              "      <td>{'non-fiction': 5, 'history, historical fictio...</td>\n",
              "    </tr>\n",
              "    <tr>\n",
              "      <th>2360651</th>\n",
              "      <td>26168430</td>\n",
              "      <td>{'mystery, thriller, crime': 4, 'children': 1,...</td>\n",
              "    </tr>\n",
              "    <tr>\n",
              "      <th>2360652</th>\n",
              "      <td>2342551</td>\n",
              "      <td>{'poetry': 14, 'children': 7, 'young-adult': 1...</td>\n",
              "    </tr>\n",
              "    <tr>\n",
              "      <th>2360653</th>\n",
              "      <td>22017381</td>\n",
              "      <td>{'romance': 13, 'mystery, thriller, crime': 2}</td>\n",
              "    </tr>\n",
              "    <tr>\n",
              "      <th>2360654</th>\n",
              "      <td>11419866</td>\n",
              "      <td>{'romance': 19, 'fiction': 4}</td>\n",
              "    </tr>\n",
              "  </tbody>\n",
              "</table>\n",
              "</div>\n",
              "      <button class=\"colab-df-convert\" onclick=\"convertToInteractive('df-8b1b01d1-2e5f-4bc4-a94a-56be94599ae4')\"\n",
              "              title=\"Convert this dataframe to an interactive table.\"\n",
              "              style=\"display:none;\">\n",
              "        \n",
              "  <svg xmlns=\"http://www.w3.org/2000/svg\" height=\"24px\"viewBox=\"0 0 24 24\"\n",
              "       width=\"24px\">\n",
              "    <path d=\"M0 0h24v24H0V0z\" fill=\"none\"/>\n",
              "    <path d=\"M18.56 5.44l.94 2.06.94-2.06 2.06-.94-2.06-.94-.94-2.06-.94 2.06-2.06.94zm-11 1L8.5 8.5l.94-2.06 2.06-.94-2.06-.94L8.5 2.5l-.94 2.06-2.06.94zm10 10l.94 2.06.94-2.06 2.06-.94-2.06-.94-.94-2.06-.94 2.06-2.06.94z\"/><path d=\"M17.41 7.96l-1.37-1.37c-.4-.4-.92-.59-1.43-.59-.52 0-1.04.2-1.43.59L10.3 9.45l-7.72 7.72c-.78.78-.78 2.05 0 2.83L4 21.41c.39.39.9.59 1.41.59.51 0 1.02-.2 1.41-.59l7.78-7.78 2.81-2.81c.8-.78.8-2.07 0-2.86zM5.41 20L4 18.59l7.72-7.72 1.47 1.35L5.41 20z\"/>\n",
              "  </svg>\n",
              "      </button>\n",
              "      \n",
              "  <style>\n",
              "    .colab-df-container {\n",
              "      display:flex;\n",
              "      flex-wrap:wrap;\n",
              "      gap: 12px;\n",
              "    }\n",
              "\n",
              "    .colab-df-convert {\n",
              "      background-color: #E8F0FE;\n",
              "      border: none;\n",
              "      border-radius: 50%;\n",
              "      cursor: pointer;\n",
              "      display: none;\n",
              "      fill: #1967D2;\n",
              "      height: 32px;\n",
              "      padding: 0 0 0 0;\n",
              "      width: 32px;\n",
              "    }\n",
              "\n",
              "    .colab-df-convert:hover {\n",
              "      background-color: #E2EBFA;\n",
              "      box-shadow: 0px 1px 2px rgba(60, 64, 67, 0.3), 0px 1px 3px 1px rgba(60, 64, 67, 0.15);\n",
              "      fill: #174EA6;\n",
              "    }\n",
              "\n",
              "    [theme=dark] .colab-df-convert {\n",
              "      background-color: #3B4455;\n",
              "      fill: #D2E3FC;\n",
              "    }\n",
              "\n",
              "    [theme=dark] .colab-df-convert:hover {\n",
              "      background-color: #434B5C;\n",
              "      box-shadow: 0px 1px 3px 1px rgba(0, 0, 0, 0.15);\n",
              "      filter: drop-shadow(0px 1px 2px rgba(0, 0, 0, 0.3));\n",
              "      fill: #FFFFFF;\n",
              "    }\n",
              "  </style>\n",
              "\n",
              "      <script>\n",
              "        const buttonEl =\n",
              "          document.querySelector('#df-8b1b01d1-2e5f-4bc4-a94a-56be94599ae4 button.colab-df-convert');\n",
              "        buttonEl.style.display =\n",
              "          google.colab.kernel.accessAllowed ? 'block' : 'none';\n",
              "\n",
              "        async function convertToInteractive(key) {\n",
              "          const element = document.querySelector('#df-8b1b01d1-2e5f-4bc4-a94a-56be94599ae4');\n",
              "          const dataTable =\n",
              "            await google.colab.kernel.invokeFunction('convertToInteractive',\n",
              "                                                     [key], {});\n",
              "          if (!dataTable) return;\n",
              "\n",
              "          const docLinkHtml = 'Like what you see? Visit the ' +\n",
              "            '<a target=\"_blank\" href=https://colab.research.google.com/notebooks/data_table.ipynb>data table notebook</a>'\n",
              "            + ' to learn more about interactive tables.';\n",
              "          element.innerHTML = '';\n",
              "          dataTable['output_type'] = 'display_data';\n",
              "          await google.colab.output.renderOutput(dataTable, element);\n",
              "          const docLink = document.createElement('div');\n",
              "          docLink.innerHTML = docLinkHtml;\n",
              "          element.appendChild(docLink);\n",
              "        }\n",
              "      </script>\n",
              "    </div>\n",
              "  </div>\n",
              "  "
            ]
          },
          "metadata": {},
          "execution_count": 8
        }
      ]
    },
    {
      "cell_type": "code",
      "execution_count": 9,
      "metadata": {
        "colab": {
          "base_uri": "https://localhost:8080/"
        },
        "id": "AjsjGQRZioHa",
        "outputId": "59e16b57-4ab7-4a03-a9d1-746bc3fbefe6"
      },
      "outputs": [
        {
          "output_type": "stream",
          "name": "stdout",
          "text": [
            "<class 'pandas.core.frame.DataFrame'>\n",
            "RangeIndex: 2360655 entries, 0 to 2360654\n",
            "Data columns (total 2 columns):\n",
            " #   Column   Dtype \n",
            "---  ------   ----- \n",
            " 0   book_id  object\n",
            " 1   genres   object\n",
            "dtypes: object(2)\n",
            "memory usage: 36.0+ MB\n"
          ]
        }
      ],
      "source": [
        "genres_df.info()"
      ]
    },
    {
      "cell_type": "code",
      "source": [
        "genres_df.describe"
      ],
      "metadata": {
        "colab": {
          "base_uri": "https://localhost:8080/"
        },
        "id": "paUlRy-8H6iK",
        "outputId": "0b824c40-b099-4013-f373-4b2508a066ea"
      },
      "execution_count": 10,
      "outputs": [
        {
          "output_type": "execute_result",
          "data": {
            "text/plain": [
              "<bound method NDFrame.describe of           book_id                                             genres\n",
              "0         5333265      {'history, historical fiction, biography': 1}\n",
              "1         1333909  {'fiction': 219, 'history, historical fiction,...\n",
              "2         7327624  {'fantasy, paranormal': 31, 'fiction': 8, 'mys...\n",
              "3         6066819  {'fiction': 555, 'romance': 23, 'mystery, thri...\n",
              "4          287140                                 {'non-fiction': 3}\n",
              "...           ...                                                ...\n",
              "2360650   3084038  {'non-fiction': 5, 'history, historical fictio...\n",
              "2360651  26168430  {'mystery, thriller, crime': 4, 'children': 1,...\n",
              "2360652   2342551  {'poetry': 14, 'children': 7, 'young-adult': 1...\n",
              "2360653  22017381     {'romance': 13, 'mystery, thriller, crime': 2}\n",
              "2360654  11419866                      {'romance': 19, 'fiction': 4}\n",
              "\n",
              "[2360655 rows x 2 columns]>"
            ]
          },
          "metadata": {},
          "execution_count": 10
        }
      ]
    },
    {
      "cell_type": "code",
      "execution_count": 11,
      "metadata": {
        "id": "9a1akUwjjeEp"
      },
      "outputs": [],
      "source": [
        "# Ensure that there are no missing values in this table\n",
        "assert(genres_df[genres_df.isna().any(axis=1)].shape == (0, len(genres_df.columns)))"
      ]
    },
    {
      "cell_type": "code",
      "execution_count": 12,
      "metadata": {
        "id": "aCvPIYn_lNoP"
      },
      "outputs": [],
      "source": [
        "# Ensure that each book_id is unique\n",
        "assert(genres_df['book_id'].nunique() == genres_df.shape[0])"
      ]
    },
    {
      "cell_type": "code",
      "source": [
        "f1 = open('/content/drive/Shareddrives/CIS5500-BookReviews/CleanedFilesForDB/genres.csv', 'w+')\n",
        "keys1 = ['genre_id', 'genre_name']\n",
        "writer1 = csv.DictWriter(f1, fieldnames=keys1)\n",
        "writer1.writeheader()  "
      ],
      "metadata": {
        "colab": {
          "base_uri": "https://localhost:8080/"
        },
        "id": "7USR3J_CsACY",
        "outputId": "643d697c-5821-4dd9-90bc-47ce9457fb17"
      },
      "execution_count": 70,
      "outputs": [
        {
          "output_type": "execute_result",
          "data": {
            "text/plain": [
              "21"
            ]
          },
          "metadata": {},
          "execution_count": 70
        }
      ]
    },
    {
      "cell_type": "code",
      "source": [
        "# Get all genres\n",
        "\n",
        "g_id = 1\n",
        "genre_names = {}\n",
        "for index, row in genres_df.iterrows():\n",
        "    # book_id = row['book_id']\n",
        "    genres_dict = row['genres']\n",
        "    \n",
        "    for k,v in genres_dict.items():\n",
        "      genres = k.split(',')\n",
        "      \n",
        "      for gname in genres:\n",
        "        if gname not in genre_names.values():\n",
        "          genre_names[g_id] = gname\n",
        "          writer1.writerow({'genre_id': g_id, 'genre_name': gname})\n",
        "          g_id+=1\n"
      ],
      "metadata": {
        "id": "gaqQF-kzKEOr"
      },
      "execution_count": 71,
      "outputs": []
    },
    {
      "cell_type": "code",
      "source": [
        "f1.close()"
      ],
      "metadata": {
        "id": "jl7j4-B1sSNL"
      },
      "execution_count": 72,
      "outputs": []
    },
    {
      "cell_type": "code",
      "source": [
        "f2 = open('/content/drive/Shareddrives/CIS5500-BookReviews/CleanedFilesForDB/books_genres.csv', 'w+')\n",
        "\n",
        "keys2 = ['book_id', 'genre_id', 'n_votes']\n",
        "writer2 = csv.DictWriter(f2, fieldnames=keys2)\n",
        "writer2.writeheader()\n"
      ],
      "metadata": {
        "colab": {
          "base_uri": "https://localhost:8080/"
        },
        "id": "LOC8Ph7W0hM1",
        "outputId": "fb495318-5b43-4f64-f49d-043662f887c1"
      },
      "execution_count": 73,
      "outputs": [
        {
          "output_type": "execute_result",
          "data": {
            "text/plain": [
              "26"
            ]
          },
          "metadata": {},
          "execution_count": 73
        }
      ]
    },
    {
      "cell_type": "code",
      "source": [
        "# Get books and their genres\n",
        "\n",
        "for index, row in genres_df.iterrows():\n",
        "    book_id = row['book_id']\n",
        "    genres_dict = row['genres']\n",
        "    i=0\n",
        "    for k,v in genres_dict.items():\n",
        "      genres = k.split(',')\n",
        "      n_vote = v\n",
        "      for gname in genres:\n",
        "        key = list(filter(lambda x: genre_names[x] == gname, genre_names))[0]\n",
        "        writer2.writerow({'book_id': book_id, 'genre_id': key, 'n_votes' : n_vote})\n",
        "        i=i+1\n",
        "        if i==3:\n",
        "          break"
      ],
      "metadata": {
        "id": "1agDlOcb03Hs"
      },
      "execution_count": null,
      "outputs": []
    },
    {
      "cell_type": "code",
      "source": [
        "f2.close()"
      ],
      "metadata": {
        "id": "NuOLYwH_24aM"
      },
      "execution_count": null,
      "outputs": []
    }
  ],
  "metadata": {
    "colab": {
      "provenance": []
    },
    "kernelspec": {
      "display_name": "Python 3",
      "name": "python3"
    },
    "language_info": {
      "name": "python"
    }
  },
  "nbformat": 4,
  "nbformat_minor": 0
}